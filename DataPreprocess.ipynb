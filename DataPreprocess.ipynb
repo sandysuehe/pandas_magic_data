{
 "cells": [
  {
   "cell_type": "code",
   "execution_count": 36,
   "metadata": {},
   "outputs": [],
   "source": [
    "import pandas as pd\n",
    "import matplotlib.pyplot as plt\n"
   ]
  },
  {
   "cell_type": "markdown",
   "metadata": {},
   "source": [
    "## 一、 导入数据"
   ]
  },
  {
   "cell_type": "code",
   "execution_count": 37,
   "metadata": {},
   "outputs": [],
   "source": [
    "df = pd.read_csv(\"./listings.csv\")"
   ]
  },
  {
   "cell_type": "markdown",
   "metadata": {},
   "source": [
    "## 二、 缺失值填充"
   ]
  },
  {
   "cell_type": "markdown",
   "metadata": {},
   "source": [
    "### 1. 查看缺失值\n",
    "非零值字段，即存在缺失值。"
   ]
  },
  {
   "cell_type": "code",
   "execution_count": 38,
   "metadata": {},
   "outputs": [
    {
     "data": {
      "text/plain": [
       "id                                    0\n",
       "name                                  1\n",
       "host_id                               0\n",
       "host_name                             0\n",
       "neighbourhood_group               28452\n",
       "neighbourhood                         0\n",
       "latitude                              0\n",
       "longitude                             0\n",
       "room_type                             0\n",
       "price                                 0\n",
       "minimum_nights                        0\n",
       "number_of_reviews                     0\n",
       "last_review                       11158\n",
       "reviews_per_month                 11158\n",
       "calculated_host_listings_count        0\n",
       "availability_365                      0\n",
       "dtype: int64"
      ]
     },
     "execution_count": 38,
     "metadata": {},
     "output_type": "execute_result"
    }
   ],
   "source": [
    "df.isnull().sum()"
   ]
  },
  {
   "cell_type": "code",
   "execution_count": 39,
   "metadata": {},
   "outputs": [
    {
     "data": {
      "text/plain": [
       "id                                  int64\n",
       "name                               object\n",
       "host_id                             int64\n",
       "host_name                          object\n",
       "neighbourhood_group               float64\n",
       "neighbourhood                      object\n",
       "latitude                          float64\n",
       "longitude                         float64\n",
       "room_type                          object\n",
       "price                               int64\n",
       "minimum_nights                      int64\n",
       "number_of_reviews                   int64\n",
       "last_review                        object\n",
       "reviews_per_month                 float64\n",
       "calculated_host_listings_count      int64\n",
       "availability_365                    int64\n",
       "dtype: object"
      ]
     },
     "execution_count": 39,
     "metadata": {},
     "output_type": "execute_result"
    }
   ],
   "source": [
    "df.dtypes"
   ]
  },
  {
   "cell_type": "markdown",
   "metadata": {},
   "source": [
    "### 2. 对于数据类型，处理缺失值最简单的方法就是用平均数来填充缺失值"
   ]
  },
  {
   "cell_type": "code",
   "execution_count": 40,
   "metadata": {},
   "outputs": [],
   "source": [
    "df.reviews_per_month = df.reviews_per_month.fillna(df.reviews_per_month.median())\n"
   ]
  },
  {
   "cell_type": "markdown",
   "metadata": {},
   "source": [
    "### 3. 对于分类类型，处理缺失值的方法是用最常见的类别做填充\n"
   ]
  },
  {
   "cell_type": "code",
   "execution_count": 41,
   "metadata": {},
   "outputs": [],
   "source": [
    "df.last_review = df.last_review.fillna('1900-01-01')"
   ]
  },
  {
   "cell_type": "code",
   "execution_count": 42,
   "metadata": {},
   "outputs": [],
   "source": [
    "df.neighbourhood_group = df.neighbourhood_group.fillna(0)"
   ]
  },
  {
   "cell_type": "markdown",
   "metadata": {},
   "source": [
    "## 三、 空值替换"
   ]
  },
  {
   "cell_type": "code",
   "execution_count": 46,
   "metadata": {},
   "outputs": [],
   "source": [
    "df.availability_365 = df.availability_365.replace('', 0) "
   ]
  },
  {
   "cell_type": "markdown",
   "metadata": {},
   "source": [
    "## 四、 数值映射"
   ]
  },
  {
   "cell_type": "code",
   "execution_count": 43,
   "metadata": {},
   "outputs": [],
   "source": [
    "df.room_type = df.room_type.map({'Entire home/apt':0,'Private room':1, 'Shared room':2})\n"
   ]
  },
  {
   "cell_type": "code",
   "execution_count": 44,
   "metadata": {},
   "outputs": [
    {
     "data": {
      "text/plain": [
       "0    0\n",
       "1    1\n",
       "2    0\n",
       "3    0\n",
       "4    0\n",
       "Name: room_type, dtype: int64"
      ]
     },
     "execution_count": 44,
     "metadata": {},
     "output_type": "execute_result"
    }
   ],
   "source": [
    "df.room_type.head()"
   ]
  },
  {
   "cell_type": "markdown",
   "metadata": {},
   "source": [
    "## 五、OneHot编码\n"
   ]
  },
  {
   "cell_type": "code",
   "execution_count": 45,
   "metadata": {},
   "outputs": [
    {
     "data": {
      "text/html": [
       "<div>\n",
       "<style scoped>\n",
       "    .dataframe tbody tr th:only-of-type {\n",
       "        vertical-align: middle;\n",
       "    }\n",
       "\n",
       "    .dataframe tbody tr th {\n",
       "        vertical-align: top;\n",
       "    }\n",
       "\n",
       "    .dataframe thead th {\n",
       "        text-align: right;\n",
       "    }\n",
       "</style>\n",
       "<table border=\"1\" class=\"dataframe\">\n",
       "  <thead>\n",
       "    <tr style=\"text-align: right;\">\n",
       "      <th></th>\n",
       "      <th>id</th>\n",
       "      <th>name</th>\n",
       "      <th>host_id</th>\n",
       "      <th>host_name</th>\n",
       "      <th>neighbourhood_group</th>\n",
       "      <th>neighbourhood</th>\n",
       "      <th>latitude</th>\n",
       "      <th>longitude</th>\n",
       "      <th>room_type</th>\n",
       "      <th>price</th>\n",
       "      <th>minimum_nights</th>\n",
       "      <th>number_of_reviews</th>\n",
       "      <th>last_review</th>\n",
       "      <th>reviews_per_month</th>\n",
       "      <th>calculated_host_listings_count</th>\n",
       "      <th>availability_365</th>\n",
       "      <th>RoomType_0</th>\n",
       "      <th>RoomType_1</th>\n",
       "      <th>RoomType_2</th>\n",
       "    </tr>\n",
       "  </thead>\n",
       "  <tbody>\n",
       "    <tr>\n",
       "      <th>0</th>\n",
       "      <td>44054</td>\n",
       "      <td>Modern and Comfortable Living in CBD</td>\n",
       "      <td>192875</td>\n",
       "      <td>East Apartments</td>\n",
       "      <td>0.0</td>\n",
       "      <td>朝阳区 / Chaoyang</td>\n",
       "      <td>39.89503</td>\n",
       "      <td>116.45163</td>\n",
       "      <td>0</td>\n",
       "      <td>792</td>\n",
       "      <td>1</td>\n",
       "      <td>89</td>\n",
       "      <td>2019-03-04</td>\n",
       "      <td>0.85</td>\n",
       "      <td>9</td>\n",
       "      <td>341</td>\n",
       "      <td>1</td>\n",
       "      <td>0</td>\n",
       "      <td>0</td>\n",
       "    </tr>\n",
       "    <tr>\n",
       "      <th>1</th>\n",
       "      <td>100213</td>\n",
       "      <td>The Great Wall Box Deluxe Suite A团园长城小院东院套房</td>\n",
       "      <td>527062</td>\n",
       "      <td>Joe</td>\n",
       "      <td>0.0</td>\n",
       "      <td>密云县 / Miyun</td>\n",
       "      <td>40.68434</td>\n",
       "      <td>117.17231</td>\n",
       "      <td>1</td>\n",
       "      <td>1201</td>\n",
       "      <td>1</td>\n",
       "      <td>2</td>\n",
       "      <td>2017-10-08</td>\n",
       "      <td>0.10</td>\n",
       "      <td>4</td>\n",
       "      <td>0</td>\n",
       "      <td>0</td>\n",
       "      <td>1</td>\n",
       "      <td>0</td>\n",
       "    </tr>\n",
       "    <tr>\n",
       "      <th>2</th>\n",
       "      <td>128496</td>\n",
       "      <td>Heart of Beijing: House with View 2</td>\n",
       "      <td>467520</td>\n",
       "      <td>Cindy</td>\n",
       "      <td>0.0</td>\n",
       "      <td>东城区</td>\n",
       "      <td>39.93213</td>\n",
       "      <td>116.42200</td>\n",
       "      <td>0</td>\n",
       "      <td>389</td>\n",
       "      <td>3</td>\n",
       "      <td>259</td>\n",
       "      <td>2019-02-05</td>\n",
       "      <td>2.70</td>\n",
       "      <td>1</td>\n",
       "      <td>93</td>\n",
       "      <td>1</td>\n",
       "      <td>0</td>\n",
       "      <td>0</td>\n",
       "    </tr>\n",
       "    <tr>\n",
       "      <th>3</th>\n",
       "      <td>161902</td>\n",
       "      <td>cozy studio in center of Beijing</td>\n",
       "      <td>707535</td>\n",
       "      <td>Robert</td>\n",
       "      <td>0.0</td>\n",
       "      <td>东城区</td>\n",
       "      <td>39.93357</td>\n",
       "      <td>116.43577</td>\n",
       "      <td>0</td>\n",
       "      <td>376</td>\n",
       "      <td>1</td>\n",
       "      <td>26</td>\n",
       "      <td>2016-12-03</td>\n",
       "      <td>0.28</td>\n",
       "      <td>5</td>\n",
       "      <td>290</td>\n",
       "      <td>1</td>\n",
       "      <td>0</td>\n",
       "      <td>0</td>\n",
       "    </tr>\n",
       "    <tr>\n",
       "      <th>4</th>\n",
       "      <td>162144</td>\n",
       "      <td>nice studio near subway, sleep 4</td>\n",
       "      <td>707535</td>\n",
       "      <td>Robert</td>\n",
       "      <td>0.0</td>\n",
       "      <td>朝阳区 / Chaoyang</td>\n",
       "      <td>39.93668</td>\n",
       "      <td>116.43798</td>\n",
       "      <td>0</td>\n",
       "      <td>537</td>\n",
       "      <td>1</td>\n",
       "      <td>37</td>\n",
       "      <td>2018-08-01</td>\n",
       "      <td>0.40</td>\n",
       "      <td>5</td>\n",
       "      <td>352</td>\n",
       "      <td>1</td>\n",
       "      <td>0</td>\n",
       "      <td>0</td>\n",
       "    </tr>\n",
       "  </tbody>\n",
       "</table>\n",
       "</div>"
      ],
      "text/plain": [
       "       id                                         name  host_id  \\\n",
       "0   44054         Modern and Comfortable Living in CBD   192875   \n",
       "1  100213  The Great Wall Box Deluxe Suite A团园长城小院东院套房   527062   \n",
       "2  128496          Heart of Beijing: House with View 2   467520   \n",
       "3  161902             cozy studio in center of Beijing   707535   \n",
       "4  162144            nice studio near subway, sleep 4    707535   \n",
       "\n",
       "         host_name  neighbourhood_group   neighbourhood  latitude  longitude  \\\n",
       "0  East Apartments                  0.0  朝阳区 / Chaoyang  39.89503  116.45163   \n",
       "1              Joe                  0.0     密云县 / Miyun  40.68434  117.17231   \n",
       "2            Cindy                  0.0             东城区  39.93213  116.42200   \n",
       "3           Robert                  0.0             东城区  39.93357  116.43577   \n",
       "4           Robert                  0.0  朝阳区 / Chaoyang  39.93668  116.43798   \n",
       "\n",
       "   room_type  price  minimum_nights  number_of_reviews last_review  \\\n",
       "0          0    792               1                 89  2019-03-04   \n",
       "1          1   1201               1                  2  2017-10-08   \n",
       "2          0    389               3                259  2019-02-05   \n",
       "3          0    376               1                 26  2016-12-03   \n",
       "4          0    537               1                 37  2018-08-01   \n",
       "\n",
       "   reviews_per_month  calculated_host_listings_count  availability_365  \\\n",
       "0               0.85                               9               341   \n",
       "1               0.10                               4                 0   \n",
       "2               2.70                               1                93   \n",
       "3               0.28                               5               290   \n",
       "4               0.40                               5               352   \n",
       "\n",
       "   RoomType_0  RoomType_1  RoomType_2  \n",
       "0           1           0           0  \n",
       "1           0           1           0  \n",
       "2           1           0           0  \n",
       "3           1           0           0  \n",
       "4           1           0           0  "
      ]
     },
     "execution_count": 45,
     "metadata": {},
     "output_type": "execute_result"
    }
   ],
   "source": [
    "#使用get_dummies进行one-hot编码，列名前缀是Embarked\n",
    "roomTypeDf = pd.DataFrame()\n",
    "roomTypeDf = pd.get_dummies(df.room_type, prefix='RoomType')\n",
    "\n",
    "df = pd.concat([df,roomTypeDf],axis=1)\n",
    "# df.drop('RoomType',axis=1,inplace=True)\n",
    "df.head()"
   ]
  },
  {
   "cell_type": "markdown",
   "metadata": {},
   "source": [
    "## 六、相关性矩阵"
   ]
  },
  {
   "cell_type": "code",
   "execution_count": 48,
   "metadata": {},
   "outputs": [],
   "source": [
    "corrDf = df.corr()"
   ]
  },
  {
   "cell_type": "code",
   "execution_count": 49,
   "metadata": {},
   "outputs": [
    {
     "data": {
      "text/plain": [
       "price                             1.000000\n",
       "latitude                          0.126437\n",
       "RoomType_0                        0.101187\n",
       "availability_365                  0.026933\n",
       "host_id                           0.019251\n",
       "longitude                         0.009472\n",
       "minimum_nights                    0.008419\n",
       "id                               -0.005895\n",
       "calculated_host_listings_count   -0.015742\n",
       "number_of_reviews                -0.044383\n",
       "reviews_per_month                -0.045277\n",
       "RoomType_2                       -0.047822\n",
       "RoomType_1                       -0.080837\n",
       "room_type                        -0.100707\n",
       "neighbourhood_group                    NaN\n",
       "Name: price, dtype: float64"
      ]
     },
     "execution_count": 49,
     "metadata": {},
     "output_type": "execute_result"
    }
   ],
   "source": [
    "# 查看各个特征与生成情况（Price）的相关系数，ascending=False表示按降序排列\n",
    "corrDf['price'].sort_values(ascending = False)"
   ]
  },
  {
   "cell_type": "code",
   "execution_count": null,
   "metadata": {},
   "outputs": [],
   "source": []
  }
 ],
 "metadata": {
  "kernelspec": {
   "display_name": "Python 3",
   "language": "python",
   "name": "python3"
  },
  "language_info": {
   "codemirror_mode": {
    "name": "ipython",
    "version": 3
   },
   "file_extension": ".py",
   "mimetype": "text/x-python",
   "name": "python",
   "nbconvert_exporter": "python",
   "pygments_lexer": "ipython3",
   "version": "3.7.1"
  }
 },
 "nbformat": 4,
 "nbformat_minor": 2
}
